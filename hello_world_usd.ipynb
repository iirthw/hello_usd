{
  "nbformat": 4,
  "nbformat_minor": 0,
  "metadata": {
    "colab": {
      "name": "hello_world_usd.ipynb",
      "provenance": [],
      "authorship_tag": "ABX9TyMi4C/0b8SqK4HGgjcp+79B",
      "include_colab_link": true
    },
    "kernelspec": {
      "name": "python3",
      "display_name": "Python 3"
    },
    "language_info": {
      "name": "python"
    }
  },
  "cells": [
    {
      "cell_type": "markdown",
      "metadata": {
        "id": "view-in-github",
        "colab_type": "text"
      },
      "source": [
        "<a href=\"https://colab.research.google.com/github/iirthw/hello_usd/blob/main/hello_world_usd.ipynb\" target=\"_parent\"><img src=\"https://colab.research.google.com/assets/colab-badge.svg\" alt=\"Open In Colab\"/></a>"
      ]
    },
    {
      "cell_type": "markdown",
      "source": [
        "# Hello World, USD"
      ],
      "metadata": {
        "id": "oFcZBQ3tSHUG"
      }
    },
    {
      "cell_type": "code",
      "source": [
        "!pip install usd-core"
      ],
      "metadata": {
        "colab": {
          "base_uri": "https://localhost:8080/"
        },
        "id": "K_Wd8djkSgPi",
        "outputId": "9bbad7e6-553d-4cc6-9fc9-ce575f3701f1"
      },
      "execution_count": 2,
      "outputs": [
        {
          "output_type": "stream",
          "name": "stdout",
          "text": [
            "Collecting usd-core\n",
            "  Downloading usd_core-21.11-cp37-none-manylinux_2_17_x86_64.manylinux2014_x86_64.whl (23.7 MB)\n",
            "\u001b[K     |████████████████████████████████| 23.7 MB 1.6 MB/s \n",
            "\u001b[?25hInstalling collected packages: usd-core\n",
            "Successfully installed usd-core-21.11\n"
          ]
        }
      ]
    },
    {
      "cell_type": "code",
      "source": [
        "from pxr import Usd, UsdGeom\n",
        "\n",
        "stage = Usd.Stage.CreateNew('HelloWorld.usda')\n",
        "xformPrim = UsdGeom.Xform.Define(stage, '/hello')\n",
        "spherePrim = UsdGeom.Sphere.Define(stage, '/hello/world')\n",
        "stage.GetRootLayer().Save()"
      ],
      "metadata": {
        "colab": {
          "base_uri": "https://localhost:8080/"
        },
        "id": "q7Jwk0GiSQHN",
        "outputId": "ef35b1d0-ea4b-474e-b797-1c96062b050d"
      },
      "execution_count": 4,
      "outputs": [
        {
          "output_type": "execute_result",
          "data": {
            "text/plain": [
              "True"
            ]
          },
          "metadata": {},
          "execution_count": 4
        }
      ]
    }
  ]
}